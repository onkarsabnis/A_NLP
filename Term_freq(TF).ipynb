{
 "cells": [
  {
   "cell_type": "code",
   "execution_count": null,
   "metadata": {},
   "outputs": [],
   "source": []
  },
  {
   "cell_type": "code",
   "execution_count": 1,
   "metadata": {},
   "outputs": [
    {
     "name": "stderr",
     "output_type": "stream",
     "text": [
      "[nltk_data] Downloading package stopwords to\n",
      "[nltk_data]     C:\\Users\\LENOVO\\AppData\\Roaming\\nltk_data...\n",
      "[nltk_data]   Unzipping corpora\\stopwords.zip.\n",
      "[nltk_data] Downloading package gutenberg to\n",
      "[nltk_data]     C:\\Users\\LENOVO\\AppData\\Roaming\\nltk_data...\n",
      "[nltk_data]   Unzipping corpora\\gutenberg.zip.\n"
     ]
    }
   ],
   "source": [
    "import nltk\n",
    "nltk.download('stopwords')\n",
    "nltk.download('gutenberg')\n",
    "from nltk.probability import FreqDist\n",
    "from nltk.corpus import stopwords\n",
    "import numpy as np\n",
    "import pandas as pd"
   ]
  },
  {
   "cell_type": "code",
   "execution_count": 4,
   "metadata": {},
   "outputs": [],
   "source": [
    "stop_words=set(stopwords.words('english'))"
   ]
  },
  {
   "cell_type": "code",
   "execution_count": 5,
   "metadata": {},
   "outputs": [],
   "source": [
    "#read the corpus\n",
    "words=nltk.Text(nltk.corpus.gutenberg.words('bryant-stories.txt'))"
   ]
  },
  {
   "cell_type": "code",
   "execution_count": 6,
   "metadata": {},
   "outputs": [],
   "source": [
    "#convert to small letters\n",
    "words=[word.lower() for word in words if word.isalpha() ]\n",
    "words=[word.lower() for word in words if word not in stop_words ]"
   ]
  },
  {
   "cell_type": "code",
   "execution_count": 11,
   "metadata": {},
   "outputs": [],
   "source": [
    "fDist=FreqDist(words)"
   ]
  },
  {
   "cell_type": "code",
   "execution_count": 13,
   "metadata": {},
   "outputs": [
    {
     "data": {
      "text/plain": [
       "21718"
      ]
     },
     "execution_count": 13,
     "metadata": {},
     "output_type": "execute_result"
    }
   ],
   "source": [
    "len(words)"
   ]
  },
  {
   "cell_type": "code",
   "execution_count": 14,
   "metadata": {},
   "outputs": [
    {
     "data": {
      "text/plain": [
       "3688"
      ]
     },
     "execution_count": 14,
     "metadata": {},
     "output_type": "execute_result"
    }
   ],
   "source": [
    "len(set(words))  #unique words"
   ]
  },
  {
   "cell_type": "code",
   "execution_count": 15,
   "metadata": {},
   "outputs": [],
   "source": [
    "heading=['Term','Frequency']"
   ]
  },
  {
   "cell_type": "code",
   "execution_count": 16,
   "metadata": {},
   "outputs": [],
   "source": [
    "tf_list=[]"
   ]
  },
  {
   "cell_type": "code",
   "execution_count": 20,
   "metadata": {},
   "outputs": [
    {
     "name": "stdout",
     "output_type": "stream",
     "text": [
      "      Term  Frequency\n",
      "0   little        597\n",
      "1     said        453\n",
      "2     came        191\n",
      "3      one        183\n",
      "4    could        158\n",
      "5     king        141\n",
      "6     went        122\n",
      "7    would        112\n",
      "8    great        110\n",
      "9      day        107\n",
      "10  little        597\n",
      "11    said        453\n",
      "12    came        191\n",
      "13     one        183\n",
      "14   could        158\n",
      "15    king        141\n",
      "16    went        122\n",
      "17   would        112\n",
      "18   great        110\n",
      "19     day        107\n",
      "20  little        597\n",
      "21    said        453\n",
      "22    came        191\n",
      "23     one        183\n",
      "24   could        158\n",
      "25    king        141\n",
      "26    went        122\n",
      "27   would        112\n",
      "28   great        110\n",
      "29     day        107\n",
      "30  little        597\n",
      "31    said        453\n",
      "32    came        191\n",
      "33     one        183\n",
      "34   could        158\n",
      "35    king        141\n",
      "36    went        122\n",
      "37   would        112\n",
      "38   great        110\n",
      "39     day        107\n"
     ]
    }
   ],
   "source": [
    "for x,v in fDist.most_common(10):\n",
    "    tf_list.append((x,v))\n",
    "print(pd.DataFrame(tf_list,columns=heading))"
   ]
  },
  {
   "cell_type": "code",
   "execution_count": 21,
   "metadata": {},
   "outputs": [],
   "source": [
    "heading = ['Word','Weighted Frequency']\n",
    "tf_list = []"
   ]
  },
  {
   "cell_type": "code",
   "execution_count": 22,
   "metadata": {},
   "outputs": [
    {
     "name": "stdout",
     "output_type": "stream",
     "text": [
      "      Word  Weighted Frequency\n",
      "0   little            0.161876\n",
      "1     said            0.122831\n",
      "2     came            0.051790\n",
      "3      one            0.049620\n",
      "4    could            0.042842\n",
      "5     king            0.038232\n",
      "6     went            0.033080\n",
      "7    would            0.030369\n",
      "8    great            0.029826\n",
      "9      day            0.029013\n",
      "10     man            0.029013\n",
      "11     old            0.028200\n",
      "12    time            0.026302\n",
      "13     see            0.026302\n",
      "14    like            0.024946\n",
      "15     saw            0.024946\n",
      "16    away            0.024675\n",
      "17  mother            0.024403\n",
      "18    made            0.024132\n",
      "19    good            0.022777\n"
     ]
    }
   ],
   "source": [
    "for x,v in fDist.most_common(20):\n",
    "    tf_list.append((x,v/len(fDist)))\n",
    "print(pd.DataFrame(tf_list,columns=heading))"
   ]
  },
  {
   "cell_type": "code",
   "execution_count": null,
   "metadata": {},
   "outputs": [],
   "source": []
  }
 ],
 "metadata": {
  "kernelspec": {
   "display_name": "Python 3",
   "language": "python",
   "name": "python3"
  },
  "language_info": {
   "codemirror_mode": {
    "name": "ipython",
    "version": 3
   },
   "file_extension": ".py",
   "mimetype": "text/x-python",
   "name": "python",
   "nbconvert_exporter": "python",
   "pygments_lexer": "ipython3",
   "version": "3.7.1"
  }
 },
 "nbformat": 4,
 "nbformat_minor": 2
}
