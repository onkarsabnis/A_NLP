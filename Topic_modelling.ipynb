{
 "cells": [
  {
   "cell_type": "code",
   "execution_count": 2,
   "metadata": {},
   "outputs": [],
   "source": [
    "import os\n",
    "import gensim\n",
    "from gensim.models import LsiModel\n",
    "from gensim import models\n",
    "from gensim import corpora\n",
    "from gensim.utils import lemmatize\n",
    "import nltk\n",
    "from nltk.stem import PorterStemmer\n",
    "from nltk.corpus import stopwords\n",
    "from gensim.parsing.preprocessing import remove_stopwords, stem_text\n",
    "from gensim.parsing.preprocessing import strip_numeric, strip_short,strip_multiple_whitespaces,strip_non_alphanum,strip_punctuation,strip_tags,preprocess_string\n",
    "import pandas as pd\n",
    "from gensim import similarities\n",
    "from nltk.tokenize import RegexpTokenizer\n",
    "from nltk.corpus import stopwords\n",
    "from nltk.stem.porter import PorterStemmer\n",
    "from gensim.models.coherencemodel import CoherenceModel\n",
    "import matplotlib.pyplot as plt\n",
    "from pprint import pprint"
   ]
  },
  {
   "cell_type": "code",
   "execution_count": 3,
   "metadata": {},
   "outputs": [],
   "source": [
    "#read the data\n",
    "corpus_dir = 'https://raw.githubusercontent.com/Ramaseshanr/anlp/master/corpus/bbc-text.csv'\n",
    "df_corpus = pd.read_csv(corpus_dir,names=['category', 'text'])\n",
    "corpus = df_corpus['text'].values.tolist()\n",
    "corpus = corpus[1:]\n",
    "my_filter = [\n",
    "    lambda x: x.lower(), strip_tags, strip_punctuation,\n",
    "    strip_multiple_whitespaces, strip_numeric,\n",
    "    remove_stopwords, strip_short, stem_text\n",
    "]"
   ]
  },
  {
   "cell_type": "code",
   "execution_count": 5,
   "metadata": {},
   "outputs": [],
   "source": [
    "def preprocessing(corpus):\n",
    "\n",
    "    for document in corpus:\n",
    "        doc = strip_numeric(document)\n",
    "        doc = remove_stopwords(doc)\n",
    "        doc = strip_short(doc,3)\n",
    "        #doc = stem_text(doc)\n",
    "        doc = strip_punctuation(doc)\n",
    "        strip_tags(doc)\n",
    "        yield gensim.utils.tokenize(doc, lower=True)"
   ]
  },
  {
   "cell_type": "code",
   "execution_count": 13,
   "metadata": {},
   "outputs": [],
   "source": [
    "texts = preprocessing(corpus)\n",
    "dictionary = corpora.Dictionary(texts)\n",
    "dictionary.filter_extremes(no_below=1, keep_n=25000)\n"
   ]
  },
  {
   "cell_type": "code",
   "execution_count": 14,
   "metadata": {},
   "outputs": [],
   "source": [
    "doc_term_matrix = [dictionary.doc2bow(tokens) for tokens in preprocessing(corpus)]\n",
    "tfidf = models.TfidfModel(doc_term_matrix)\n",
    "corpus_tfidf = tfidf[doc_term_matrix]"
   ]
  },
  {
   "cell_type": "code",
   "execution_count": 15,
   "metadata": {},
   "outputs": [
    {
     "name": "stdout",
     "output_type": "stream",
     "text": [
      "[(0,\n",
      "  '0.137*\"labour\" + 0.123*\"election\" + 0.118*\"blair\" + 0.110*\"brown\" + '\n",
      "  '0.096*\"government\" + 0.092*\"party\" + 0.092*\"people\"'),\n",
      " (1,\n",
      "  '-0.286*\"labour\" + -0.250*\"election\" + -0.239*\"blair\" + -0.218*\"brown\" + '\n",
      "  '-0.178*\"party\" + -0.146*\"tax\" + -0.136*\"chancellor\"'),\n",
      " (2,\n",
      "  '0.148*\"england\" + -0.146*\"mobile\" + -0.116*\"growth\" + -0.111*\"bn\" + '\n",
      "  '0.102*\"wales\" + 0.100*\"game\" + 0.098*\"win\"'),\n",
      " (3,\n",
      "  '0.313*\"film\" + 0.174*\"best\" + 0.151*\"awards\" + -0.149*\"england\" + '\n",
      "  '0.125*\"award\" + 0.110*\"music\" + 0.109*\"oscar\"'),\n",
      " (4,\n",
      "  '-0.228*\"film\" + 0.185*\"mobile\" + -0.148*\"best\" + -0.132*\"bn\" + '\n",
      "  '-0.131*\"dollar\" + -0.125*\"economy\" + -0.118*\"m\"')]\n"
     ]
    }
   ],
   "source": [
    "lsi = models.LsiModel(corpus_tfidf, id2word=dictionary)  # initialize an LSI transformation ##LSI-Latent Semantic Indexing\n",
    "pprint(lsi.print_topics(num_topics=5, num_words=7))"
   ]
  },
  {
   "cell_type": "code",
   "execution_count": null,
   "metadata": {},
   "outputs": [],
   "source": []
  }
 ],
 "metadata": {
  "kernelspec": {
   "display_name": "Python 3",
   "language": "python",
   "name": "python3"
  },
  "language_info": {
   "codemirror_mode": {
    "name": "ipython",
    "version": 3
   },
   "file_extension": ".py",
   "mimetype": "text/x-python",
   "name": "python",
   "nbconvert_exporter": "python",
   "pygments_lexer": "ipython3",
   "version": "3.7.1"
  }
 },
 "nbformat": 4,
 "nbformat_minor": 2
}
