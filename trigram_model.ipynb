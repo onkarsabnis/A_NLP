{
 "cells": [
  {
   "cell_type": "code",
   "execution_count": 160,
   "metadata": {},
   "outputs": [],
   "source": [
    "from collections import Counter, defaultdict"
   ]
  },
  {
   "cell_type": "code",
   "execution_count": 172,
   "metadata": {},
   "outputs": [],
   "source": [
    "from nltk import trigrams\n",
    "import numpy as np\n",
    "import pandas as pd\n",
    "import matplotlib.pyplot as plt\n",
    "%matplotlib inline\n"
   ]
  },
  {
   "cell_type": "code",
   "execution_count": 173,
   "metadata": {},
   "outputs": [],
   "source": [
    "import collections\n",
    "from nltk.corpus.reader.plaintext import PlaintextCorpusReader\n",
    "\n",
    "from collections import Counter"
   ]
  },
  {
   "cell_type": "code",
   "execution_count": 178,
   "metadata": {},
   "outputs": [],
   "source": [
    "corpusdir =  r'C:\\Users\\LENOVO\\Desktop\\Cognitive ML examples\\phy_corpus'  # Directory of corpus.\n",
    "your_corpus = PlaintextCorpusReader(corpusdir, '.*')\n"
   ]
  },
  {
   "cell_type": "code",
   "execution_count": 179,
   "metadata": {},
   "outputs": [],
   "source": [
    "def build_trigram_model():\n",
    "    trigram_model = collections.defaultdict(lambda: collections.defaultdict(lambda: 0))\n",
    "    #for sentence in gutenberg.sents(\"austen-emma.txt\"):\n",
    "\n",
    "    for sentence in your_corpus.sents(r'C:\\Users\\LENOVO\\Desktop\\Cognitive ML examples\\phy_corpus'):\n",
    "        sentence = [word.lower() for word in sentence if word.isalpha()]  # get alpha only\n",
    "\n",
    "        for w1, w2, w3 in trigrams(sentence, pad_right=True, pad_left=True):\n",
    "            trigram_model[(w1, w2)][w3] += 1\n",
    "\n",
    "        for w1_w2 in trigram_model:\n",
    "            trigram_count_4_w1w2 = float(sum(trigram_model[w1_w2].values()))\n",
    "            for w3 in trigram_model[w1_w2]:\n",
    "                trigram_model[w1_w2][w3] /= trigram_count_4_w1w2\n",
    "\n",
    "    return trigram_model"
   ]
  },
  {
   "cell_type": "code",
   "execution_count": 180,
   "metadata": {},
   "outputs": [],
   "source": [
    "def predict_next_word(w1,w2):\n",
    "    trigram_model = build_trigram_model()\n",
    "    next_word = trigram_model[(w1,w2)]\n",
    "    predicted_words = Counter(next_word).most_common(10)\n",
    "\n",
    "\n",
    "    top10Predicted_words = list(zip(*predicted_words))[0]\n",
    "    probability_score = list(zip(*predicted_words))[1]\n",
    "    x_pos = np.arange(len(top10Predicted_words))\n",
    "\n",
    "    # calculate slope and intercept for the linear trend line\n",
    "    slope, intercept = np.polyfit(x_pos, probability_score, 1)\n",
    "\n",
    "    plt.bar(x_pos, probability_score,align='center')\n",
    "    plt.xticks(x_pos, top10Predicted_words)\n",
    "    plt.title('Predicted words for  '+ w1 + ' ' + w2)\n",
    "    plt.ylabel('Probability Score')\n",
    "    plt.xlabel('Predicted Words')\n",
    "    plt.show()"
   ]
  },
  {
   "cell_type": "code",
   "execution_count": 181,
   "metadata": {},
   "outputs": [
    {
     "data": {
      "image/png": "[encoded data removed]",
      "text/plain": [
       "<Figure size 432x288 with 1 Axes>"
      ]
     },
     "metadata": {
      "needs_background": "light"
     },
     "output_type": "display_data"
    }
   ],
   "source": [
    "predict_next_word('determine','the')"
   ]
  },
  {
   "cell_type": "code",
   "execution_count": null,
   "metadata": {},
   "outputs": [],
   "source": []
  },
  {
   "cell_type": "code",
   "execution_count": null,
   "metadata": {},
   "outputs": [],
   "source": []
  },
  {
   "cell_type": "code",
   "execution_count": null,
   "metadata": {},
   "outputs": [],
   "source": []
  },
  {
   "cell_type": "code",
   "execution_count": null,
   "metadata": {},
   "outputs": [],
   "source": []
  },
  {
   "cell_type": "code",
   "execution_count": null,
   "metadata": {},
   "outputs": [],
   "source": []
  }
 ],
 "metadata": {
  "kernelspec": {
   "display_name": "Python 3",
   "language": "python",
   "name": "python3"
  },
  "language_info": {
   "codemirror_mode": {
    "name": "ipython",
    "version": 3
   },
   "file_extension": ".py",
   "mimetype": "text/x-python",
   "name": "python",
   "nbconvert_exporter": "python",
   "pygments_lexer": "ipython3",
   "version": "3.7.1"
  }
 },
 "nbformat": 4,
 "nbformat_minor": 2
}
