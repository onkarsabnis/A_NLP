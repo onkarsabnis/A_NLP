{
 "cells": [
  {
   "cell_type": "code",
   "execution_count": null,
   "metadata": {},
   "outputs": [],
   "source": []
  },
  {
   "cell_type": "code",
   "execution_count": 58,
   "metadata": {},
   "outputs": [],
   "source": [
    "import nltk\n",
    "from nltk import bigrams\n",
    "import matplotlib.pyplot as plt\n",
    "%matplotlib inline\n",
    "import numpy as np\n",
    "import pandas as pd"
   ]
  },
  {
   "cell_type": "code",
   "execution_count": 59,
   "metadata": {},
   "outputs": [],
   "source": [
    "import collections\n",
    "from collections import Counter\n",
    "from nltk.corpus.reader.plaintext import PlaintextCorpusReader"
   ]
  },
  {
   "cell_type": "code",
   "execution_count": 60,
   "metadata": {},
   "outputs": [],
   "source": [
    "corpusdir= r'C:\\Users\\LENOVO\\Desktop\\Cognitive ML examples\\phy_corpus'  # point to the Directory of corpus. #r is used to convert it to raw string"
   ]
  },
  {
   "cell_type": "code",
   "execution_count": 61,
   "metadata": {},
   "outputs": [],
   "source": [
    "your_corpus = PlaintextCorpusReader(corpusdir, '.*')\n"
   ]
  },
  {
   "cell_type": "code",
   "execution_count": 76,
   "metadata": {},
   "outputs": [],
   "source": [
    "#compute the bigram model\n",
    "def build_bigram_model():\n",
    "    bigram_model = collections.defaultdict(lambda: collections.defaultdict(lambda: 0))\n",
    "    for sentence in your_corpus.sents([r'C:\\Users\\LENOVO\\Desktop\\Cognitive ML examples\\phy_corpus']):\n",
    "        sentence = [word.lower() for word in sentence if word.isalpha()]  # get alpha only\n",
    "        #Collect all bigrams counts for (w1,w2)\n",
    "        for w1, w2 in bigrams(sentence):\n",
    "            bigram_model[w1][w2] += 1\n",
    "        #compute the probability for the bigram starting with w1\n",
    "        for w1 in bigram_model:\n",
    "            #total count of bigrams starting with w1\n",
    "            bigram_count_4_w1 = float(sum(bigram_model[w1].values()))\n",
    "            #distribute the probability mass for all bigrams starting with w1\n",
    "            for w2 in bigram_model[w1]:\n",
    "                bigram_model[w1][w2] /= bigram_count_4_w1\n",
    "    return bigram_model\n",
    "    "
   ]
  },
  {
   "cell_type": "code",
   "execution_count": 77,
   "metadata": {},
   "outputs": [],
   "source": [
    "def predict_next_word(first_word):\n",
    "    #build the model\n",
    "    model = build_bigram_model()\n",
    "    #get the next for the bigram starting with 'word'\n",
    "    second_word = model[first_word]\n",
    "    #get the top 10 words whose first word is 'first_word'\n",
    "    top10words = Counter(second_word).most_common(10)\n",
    "    \n",
    "    predicted_words = list(zip(*top10words))[0]\n",
    "    probability_score = list(zip(*top10words))[1]\n",
    "    x_pos = np.arange(len(predicted_words))\n",
    "\n",
    "    # calculate slope and intercept for the linear trend line\n",
    "    slope, intercept = np.polyfit(x_pos, probability_score, 1)\n",
    "\n",
    "    plt.bar(x_pos, probability_score,align='center')\n",
    "    plt.xticks(x_pos, predicted_words)\n",
    "    plt.ylabel('Probability Score')\n",
    "    plt.xlabel('Predicted Words')\n",
    "    plt.title('Predicted words for ' + first_word)\n",
    "    plt.show()\n",
    "\n"
   ]
  },
  {
   "cell_type": "code",
   "execution_count": 111,
   "metadata": {},
   "outputs": [
    {
     "data": {
      "image/png": "[encoded data removed]",
      "text/plain": [
       "<Figure size 432x288 with 1 Axes>"
      ]
     },
     "metadata": {
      "needs_background": "light"
     },
     "output_type": "display_data"
    }
   ],
   "source": [
    "predict_next_word('truck')"
   ]
  },
  {
   "cell_type": "code",
   "execution_count": 105,
   "metadata": {},
   "outputs": [
    {
     "data": {
      "text/plain": [
       "'1970-01-January'"
      ]
     },
     "execution_count": 105,
     "metadata": {},
     "output_type": "execute_result"
    }
   ],
   "source": [
    "datetime(1970,1,1).strftime('%Y-%d-%B')"
   ]
  },
  {
   "cell_type": "code",
   "execution_count": 104,
   "metadata": {},
   "outputs": [],
   "source": [
    "from datetime import date\n",
    "from datetime import time\n",
    "from datetime import datetime"
   ]
  },
  {
   "cell_type": "code",
   "execution_count": null,
   "metadata": {},
   "outputs": [],
   "source": []
  },
  {
   "cell_type": "code",
   "execution_count": null,
   "metadata": {},
   "outputs": [],
   "source": []
  },
  {
   "cell_type": "code",
   "execution_count": null,
   "metadata": {},
   "outputs": [],
   "source": []
  }
 ],
 "metadata": {
  "kernelspec": {
   "display_name": "Python 3",
   "language": "python",
   "name": "python3"
  },
  "language_info": {
   "codemirror_mode": {
    "name": "ipython",
    "version": 3
   },
   "file_extension": ".py",
   "mimetype": "text/x-python",
   "name": "python",
   "nbconvert_exporter": "python",
   "pygments_lexer": "ipython3",
   "version": "3.7.1"
  }
 },
 "nbformat": 4,
 "nbformat_minor": 2
}
